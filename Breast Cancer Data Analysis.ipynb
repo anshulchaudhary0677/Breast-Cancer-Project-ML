{
 "cells": [
  {
   "cell_type": "code",
   "execution_count": 1,
   "metadata": {},
   "outputs": [
    {
     "name": "stdout",
     "output_type": "stream",
     "text": [
      "['README.md', 'Breast-Cancer.csv', 'Breast Cancer Data Analysis.ipynb', '.ipynb_checkpoints']\n"
     ]
    }
   ],
   "source": [
    "#To check whether the Files are in the same directory.\n",
    "import os\n",
    "print(os.listdir())"
   ]
  },
  {
   "cell_type": "code",
   "execution_count": 2,
   "metadata": {},
   "outputs": [],
   "source": [
    "import numpy as np\n",
    "import matplotlib.pyplot as plt\n",
    "from collections import Counter\n",
    "import pandas as pd"
   ]
  },
  {
   "cell_type": "code",
   "execution_count": 3,
   "metadata": {},
   "outputs": [],
   "source": [
    "dataset = {'k' : [[1,2],[2,3],[3,1]],\n",
    "           'r': [[6,5],[7,7],[8,6]]} #For any new dataset, We have to bring in this format for using our algorithm\n",
    "\n",
    "new_features = [3,5] #new point which needs to be classified"
   ]
  },
  {
   "cell_type": "code",
   "execution_count": 4,
   "metadata": {},
   "outputs": [
    {
     "data": {
      "text/plain": [
       "1.0"
      ]
     },
     "execution_count": 4,
     "metadata": {},
     "output_type": "execute_result"
    }
   ],
   "source": [
    "np.sum((np.array([3,3]) - np.array([3,4]))**2)**0.5 #distance formula"
   ]
  },
  {
   "cell_type": "code",
   "execution_count": 5,
   "metadata": {},
   "outputs": [
    {
     "data": {
      "text/plain": [
       "1.0"
      ]
     },
     "execution_count": 5,
     "metadata": {},
     "output_type": "execute_result"
    }
   ],
   "source": [
    "np.linalg.norm(np.array([3,3]) - np.array([3,4])) #Distance formula using np.linalg (linear algebra class)"
   ]
  },
  {
   "cell_type": "code",
   "execution_count": 6,
   "metadata": {},
   "outputs": [
    {
     "name": "stdout",
     "output_type": "stream",
     "text": [
      "['k', 'r', 'k']\n"
     ]
    }
   ],
   "source": [
    "distances = [] #List to append distances in \n",
    "k = 3 #Value of k in KNN\n",
    "for group in dataset:#r,k\n",
    "    for features in dataset[group]: #Single datapoint from dataset is saved in features\n",
    "        distance = np.linalg.norm(np.array(new_features) - np.array(features)) #distance of new_pt from the datapoint\n",
    "        distances.append([distance,group]) #distance is appended with group so that we can classify later\n",
    "#votes = []\n",
    "#for i in sorted(distances)[:3]:\n",
    "#    votes.append(i[1])\n",
    "votes = [i[1] for i in sorted(distances)[:3]]\n",
    "print(votes)"
   ]
  },
  {
   "cell_type": "code",
   "execution_count": 7,
   "metadata": {},
   "outputs": [
    {
     "data": {
      "text/plain": [
       "[('k', 2)]"
      ]
     },
     "execution_count": 7,
     "metadata": {},
     "output_type": "execute_result"
    }
   ],
   "source": [
    "Counter(votes).most_common(1) #remove square bracket one by one to see all outputs\n",
    "#used for finding final classification"
   ]
  },
  {
   "cell_type": "code",
   "execution_count": 8,
   "metadata": {},
   "outputs": [],
   "source": [
    "def knn(data,predict,k=3): #We define function so that we can reuse it afterwards for new dataset\n",
    "    distances = []\n",
    "    for group in data:#r\n",
    "        for features in data[group]:\n",
    "            distance = np.linalg.norm(np.array(features)-np.array(predict))\n",
    "            distances.append([distance,group])\n",
    "    votes = [i[1] for i in sorted(distances)[0:k]]\n",
    "    vote_result = Counter(votes).most_common(1)[0][0]\n",
    "    return vote_result"
   ]
  },
  {
   "cell_type": "code",
   "execution_count": 9,
   "metadata": {},
   "outputs": [
    {
     "data": {
      "text/plain": [
       "'r'"
      ]
     },
     "execution_count": 9,
     "metadata": {},
     "output_type": "execute_result"
    }
   ],
   "source": [
    "votes = ['r','r','k']\n",
    "Counter(votes).most_common(1)[0][0]"
   ]
  },
  {
   "cell_type": "code",
   "execution_count": 10,
   "metadata": {},
   "outputs": [
    {
     "name": "stdout",
     "output_type": "stream",
     "text": [
      "k\n"
     ]
    }
   ],
   "source": [
    "result = knn(dataset,new_features,3) #function call\n",
    "print(result)"
   ]
  },
  {
   "cell_type": "code",
   "execution_count": null,
   "metadata": {},
   "outputs": [],
   "source": []
  }
 ],
 "metadata": {
  "kernelspec": {
   "display_name": "Python 3",
   "language": "python",
   "name": "python3"
  },
  "language_info": {
   "codemirror_mode": {
    "name": "ipython",
    "version": 3
   },
   "file_extension": ".py",
   "mimetype": "text/x-python",
   "name": "python",
   "nbconvert_exporter": "python",
   "pygments_lexer": "ipython3",
   "version": "3.7.3"
  }
 },
 "nbformat": 4,
 "nbformat_minor": 2
}
